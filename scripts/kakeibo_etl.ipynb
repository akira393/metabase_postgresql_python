{
 "cells": [
  {
   "cell_type": "markdown",
   "id": "6208f4b1-245d-4736-9796-aa5b5d5d181d",
   "metadata": {},
   "source": [
    "## 1. データをロードする"
   ]
  },
  {
   "cell_type": "code",
   "execution_count": 33,
   "id": "3122a6b8-4f21-4662-a2fb-78b699b774ce",
   "metadata": {},
   "outputs": [],
   "source": [
    "input_path=\"./data/datalake\"\n",
    "output_path=\"./data/datamart\""
   ]
  },
  {
   "cell_type": "code",
   "execution_count": 34,
   "id": "80b665ef-d6a6-4444-a1f9-2018ba9b3218",
   "metadata": {},
   "outputs": [],
   "source": [
    "from glob import glob\n",
    "import pandas as pd\n",
    "csv_files=glob(input_path+\"/*.csv\")\n",
    "\n",
    "#csvファイルの中身を追加していくリストを用意\n",
    "data_list = []\n",
    "\n",
    "#読み込むファイルのリストを走査\n",
    "for file in csv_files:\n",
    "    data_list.append(pd.read_csv(file, encoding=\"shift-jis\"))\n",
    "\n",
    "#リストを全て行方向に結合\n",
    "#axis=0:行方向に結合, sort\n",
    "df = pd.concat(data_list, axis=0, sort=True)"
   ]
  },
  {
   "cell_type": "markdown",
   "id": "9d7844c6-2dae-4ef1-953f-4da7f28d6cdb",
   "metadata": {},
   "source": [
    "## 2. データの変換処理"
   ]
  },
  {
   "cell_type": "markdown",
   "id": "752cb922-797c-4114-a823-f7610bfdd4f1",
   "metadata": {},
   "source": [
    "### 余計なカラムの削除"
   ]
  },
  {
   "cell_type": "code",
   "execution_count": 35,
   "id": "666e5329-04bf-4ebb-a5f5-e0e979cd31a6",
   "metadata": {},
   "outputs": [],
   "source": [
    "df1=df[df[\"計算対象\"]==1].drop([\"計算対象\",\"振替\"],axis=1)"
   ]
  },
  {
   "cell_type": "markdown",
   "id": "f8ed3d7b-d2e7-4ae0-b652-c500f4e1e1a1",
   "metadata": {},
   "source": [
    "### カラムを追加・修正する"
   ]
  },
  {
   "cell_type": "markdown",
   "id": "1d30b856-26ba-45c7-8935-becbeb04ba80",
   "metadata": {},
   "source": [
    "日付カラムをdatetimeに変更\n",
    "年月、年のカラムを追加"
   ]
  },
  {
   "cell_type": "code",
   "execution_count": 36,
   "id": "a043dad8-ee33-4207-b95d-0a65408e4f51",
   "metadata": {},
   "outputs": [],
   "source": [
    "df2=df1.copy()\n",
    "df2[\"日付\"]= pd.to_datetime(df2['日付'])\n",
    "df2[\"年月\"]= pd.to_datetime(df2['日付']).dt.strftime(\"%Y-%m\")\n",
    "df2[\"年\"]= pd.to_datetime(df2['日付']).dt.strftime(\"%Y\")"
   ]
  },
  {
   "cell_type": "markdown",
   "id": "89e1e619-49ff-4ef2-9822-a892c510d8a2",
   "metadata": {},
   "source": [
    "- 年間フラグの作成\n",
    "    - 中項目が1から始まっていたら年間フラグカラムに1をセット\n",
    "    - 中項目が0から始まっていたら年間フラグに0をセット\n",
    "    - 中項目が0もしくは1から始まっていなければ、99をセットする"
   ]
  },
  {
   "cell_type": "code",
   "execution_count": 37,
   "id": "8197f41e-0108-4caa-8fa2-31d3bed4ce58",
   "metadata": {},
   "outputs": [],
   "source": [
    "def check_year_flag(string):\n",
    "    if string.startswith(\"1\"):\n",
    "        return 1\n",
    "    else:\n",
    "        if string.startswith(\"0\"):\n",
    "            return 0\n",
    "        else:\n",
    "            return 99"
   ]
  },
  {
   "cell_type": "code",
   "execution_count": 38,
   "id": "085f91a1-e94e-4cc3-97a2-ee29907df9c2",
   "metadata": {},
   "outputs": [
    {
     "data": {
      "text/html": [
       "<div>\n",
       "<style scoped>\n",
       "    .dataframe tbody tr th:only-of-type {\n",
       "        vertical-align: middle;\n",
       "    }\n",
       "\n",
       "    .dataframe tbody tr th {\n",
       "        vertical-align: top;\n",
       "    }\n",
       "\n",
       "    .dataframe thead th {\n",
       "        text-align: right;\n",
       "    }\n",
       "</style>\n",
       "<table border=\"1\" class=\"dataframe\">\n",
       "  <thead>\n",
       "    <tr style=\"text-align: right;\">\n",
       "      <th></th>\n",
       "      <th>ID</th>\n",
       "      <th>メモ</th>\n",
       "      <th>中項目</th>\n",
       "      <th>保有金融機関</th>\n",
       "      <th>内容</th>\n",
       "      <th>大項目</th>\n",
       "      <th>日付</th>\n",
       "      <th>金額（円）</th>\n",
       "      <th>年月</th>\n",
       "      <th>年</th>\n",
       "      <th>年間フラグ</th>\n",
       "    </tr>\n",
       "  </thead>\n",
       "  <tbody>\n",
       "    <tr>\n",
       "      <th>0</th>\n",
       "      <td>WZcAtFdIgDDMyjgNuSrzCA</td>\n",
       "      <td>フルーツジュース</td>\n",
       "      <td>0交際費_カフェ</td>\n",
       "      <td>LINE Pay</td>\n",
       "      <td>決済 三井アウトレットパーク木更津</td>\n",
       "      <td>交際費</td>\n",
       "      <td>2021-04-30</td>\n",
       "      <td>-496</td>\n",
       "      <td>2021-04</td>\n",
       "      <td>2021</td>\n",
       "      <td>0</td>\n",
       "    </tr>\n",
       "    <tr>\n",
       "      <th>1</th>\n",
       "      <td>xmrlnXg358el0fNuBAtNuQ</td>\n",
       "      <td>うどん　交際費</td>\n",
       "      <td>0交際費_外食</td>\n",
       "      <td>LINE Pay</td>\n",
       "      <td>決済 三井アウトレットパーク木更津</td>\n",
       "      <td>交際費</td>\n",
       "      <td>2021-04-30</td>\n",
       "      <td>-520</td>\n",
       "      <td>2021-04</td>\n",
       "      <td>2021</td>\n",
       "      <td>0</td>\n",
       "    </tr>\n",
       "    <tr>\n",
       "      <th>2</th>\n",
       "      <td>99tNYHpy_AXAmMSa-ljHkA</td>\n",
       "      <td>うどん</td>\n",
       "      <td>0外食</td>\n",
       "      <td>LINE Pay</td>\n",
       "      <td>決済 三井アウトレットパーク木更津</td>\n",
       "      <td>食費</td>\n",
       "      <td>2021-04-30</td>\n",
       "      <td>-800</td>\n",
       "      <td>2021-04</td>\n",
       "      <td>2021</td>\n",
       "      <td>0</td>\n",
       "    </tr>\n",
       "    <tr>\n",
       "      <th>3</th>\n",
       "      <td>sqUWP4TMTTlg4LUfwvwsPQ</td>\n",
       "      <td>NaN</td>\n",
       "      <td>0その他月払い</td>\n",
       "      <td>エポスカード</td>\n",
       "      <td>マネ-フオワ-ド</td>\n",
       "      <td>住宅</td>\n",
       "      <td>2021-04-30</td>\n",
       "      <td>-500</td>\n",
       "      <td>2021-04</td>\n",
       "      <td>2021</td>\n",
       "      <td>0</td>\n",
       "    </tr>\n",
       "    <tr>\n",
       "      <th>4</th>\n",
       "      <td>nW9Jbcw8D9ulHgmVEGw3aQ</td>\n",
       "      <td>バック</td>\n",
       "      <td>1自分_年払い</td>\n",
       "      <td>エポスカード</td>\n",
       "      <td>ミツイアウトレツトパ-クキサラヅ</td>\n",
       "      <td>交際費</td>\n",
       "      <td>2021-04-30</td>\n",
       "      <td>-57750</td>\n",
       "      <td>2021-04</td>\n",
       "      <td>2021</td>\n",
       "      <td>1</td>\n",
       "    </tr>\n",
       "  </tbody>\n",
       "</table>\n",
       "</div>"
      ],
      "text/plain": [
       "                       ID        メモ       中項目    保有金融機関                 内容  \\\n",
       "0  WZcAtFdIgDDMyjgNuSrzCA  フルーツジュース  0交際費_カフェ  LINE Pay  決済 三井アウトレットパーク木更津   \n",
       "1  xmrlnXg358el0fNuBAtNuQ   うどん　交際費   0交際費_外食  LINE Pay  決済 三井アウトレットパーク木更津   \n",
       "2  99tNYHpy_AXAmMSa-ljHkA       うどん       0外食  LINE Pay  決済 三井アウトレットパーク木更津   \n",
       "3  sqUWP4TMTTlg4LUfwvwsPQ       NaN   0その他月払い    エポスカード           マネ-フオワ-ド   \n",
       "4  nW9Jbcw8D9ulHgmVEGw3aQ       バック   1自分_年払い    エポスカード   ミツイアウトレツトパ-クキサラヅ   \n",
       "\n",
       "   大項目         日付  金額（円）       年月     年  年間フラグ  \n",
       "0  交際費 2021-04-30   -496  2021-04  2021      0  \n",
       "1  交際費 2021-04-30   -520  2021-04  2021      0  \n",
       "2   食費 2021-04-30   -800  2021-04  2021      0  \n",
       "3   住宅 2021-04-30   -500  2021-04  2021      0  \n",
       "4  交際費 2021-04-30 -57750  2021-04  2021      1  "
      ]
     },
     "execution_count": 38,
     "metadata": {},
     "output_type": "execute_result"
    }
   ],
   "source": [
    "df3=df2.copy()\n",
    "df3[\"年間フラグ\"]=df3.apply(lambda row: check_year_flag(row.中項目),axis=1)\n",
    "df3.head()\n"
   ]
  },
  {
   "cell_type": "markdown",
   "id": "89d76c96-0944-4044-a5d2-85188b0a6189",
   "metadata": {},
   "source": [
    "## 3. データを蓄積する"
   ]
  },
  {
   "cell_type": "code",
   "execution_count": 39,
   "id": "ce0f4cc6-7d93-41ca-ad6a-85ea3a84747b",
   "metadata": {},
   "outputs": [],
   "source": [
    "output_csv_file=output_path+\"/output3.csv\""
   ]
  },
  {
   "cell_type": "markdown",
   "id": "d70bbf0e-4205-433c-a857-2663a9ed328f",
   "metadata": {},
   "source": [
    "### csvファイルに出力"
   ]
  },
  {
   "cell_type": "code",
   "execution_count": 40,
   "id": "da054e46-eb2d-4dfd-9495-464cc132e668",
   "metadata": {},
   "outputs": [],
   "source": [
    "df3.to_csv(output_csv_file,index=False)"
   ]
  },
  {
   "cell_type": "markdown",
   "id": "85d93fc2-0dca-439b-b523-5e69b4078664",
   "metadata": {},
   "source": [
    "### dbに保存"
   ]
  },
  {
   "cell_type": "code",
   "execution_count": 41,
   "id": "29fbe321-6230-4774-9e27-23fba1986182",
   "metadata": {},
   "outputs": [],
   "source": [
    "import pandas as pd\n",
    "import datetime\n",
    "from sqlalchemy import create_engine\n",
    "\n",
    "\n",
    "connection_config = {\n",
    "    'user': 'metabase',\n",
    "    'password': 'metabase',\n",
    "    'host': 'postgres',\n",
    "    'port': '5432',\n",
    "    'database': 'metabase'\n",
    "}\n",
    "\n",
    "engine = create_engine('postgresql://{user}:{password}@{host}:{port}/{database}'.format(**connection_config))\n",
    "df = pd.read_csv(output_csv_file)\n",
    "df.to_sql('kakeibo', con=engine, if_exists='replace', index=False)"
   ]
  },
  {
   "cell_type": "markdown",
   "id": "a6baf01d-e7c3-485a-b0d7-19777452b0ad",
   "metadata": {},
   "source": [
    "---"
   ]
  },
  {
   "cell_type": "markdown",
   "id": "5c1b77a9-93aa-486e-ba1d-b3b578649487",
   "metadata": {},
   "source": [
    "---"
   ]
  },
  {
   "cell_type": "code",
   "execution_count": null,
   "id": "8f7cf740-c4f0-4f9e-9a86-6faea2f26c86",
   "metadata": {},
   "outputs": [],
   "source": []
  }
 ],
 "metadata": {
  "kernelspec": {
   "display_name": "Python 3 (ipykernel)",
   "language": "python",
   "name": "python3"
  },
  "language_info": {
   "codemirror_mode": {
    "name": "ipython",
    "version": 3
   },
   "file_extension": ".py",
   "mimetype": "text/x-python",
   "name": "python",
   "nbconvert_exporter": "python",
   "pygments_lexer": "ipython3",
   "version": "3.8.12"
  }
 },
 "nbformat": 4,
 "nbformat_minor": 5
}
